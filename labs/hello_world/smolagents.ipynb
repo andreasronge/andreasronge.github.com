{
  "cells": [
    {
      "cell_type": "markdown",
      "metadata": {
        "id": "view-in-github",
        "colab_type": "text"
      },
      "source": [
        "<a href=\"https://colab.research.google.com/github/andreasronge/andreasronge.github.com/blob/master/labs/hello_world/smolagents.ipynb\" target=\"_parent\"><img src=\"https://colab.research.google.com/assets/colab-badge.svg\" alt=\"Open In Colab\"/></a>"
      ]
    },
    {
      "cell_type": "markdown",
      "metadata": {
        "id": "pHOObpHRLSpg"
      },
      "source": [
        "## Hello World"
      ]
    },
    {
      "cell_type": "code",
      "execution_count": null,
      "metadata": {
        "id": "q-C-1BpDLSpi"
      },
      "outputs": [],
      "source": [
        "Changing from Colab"
      ]
    },
    {
      "cell_type": "code",
      "execution_count": null,
      "metadata": {
        "id": "Nt16r7DGLSpj",
        "outputId": "18cea68f-f76e-458a-a4ae-9456fd3c3de1"
      },
      "outputs": [
        {
          "name": "stdout",
          "output_type": "stream",
          "text": [
            "Hello, World!\n"
          ]
        }
      ],
      "source": [
        "import os\n",
        "from google.colab import userdata\n",
        "\n",
        "print(\"Hello, World, checking keys exists\")\n",
        "os.environ['HF_TOKEN'] = userdata.get('HF_TOKEN')\n",
        "os.environ['OPENROUTER_API_KEY'] = userdata.get('OPENROUTER_API_KEY')\n",
        "\n",
        "# Check if HF_TOKEN is set\n",
        "if 'HF_TOKEN' not in os.environ:\n",
        "    print(\"HF_TOKEN not set\")\n",
        "    exit(1)\n",
        "print(\"HF_TOKEN\")\n",
        "\n",
        "# Check if OPENROUTER_API_KEY is set, optional\n",
        "if 'OPENROUTER_API_KEY' not in os.environ:\n",
        "    print(\"OPENROUTER_API_KEY not set\")\n",
        "else:\n",
        "    print(\"OPENROUTER_API_KEY is set\")"
      ]
    }
  ],
  "metadata": {
    "kernelspec": {
      "display_name": "venv",
      "language": "python",
      "name": "python3"
    },
    "language_info": {
      "codemirror_mode": {
        "name": "ipython",
        "version": 3
      },
      "file_extension": ".py",
      "mimetype": "text/x-python",
      "name": "python",
      "nbconvert_exporter": "python",
      "pygments_lexer": "ipython3",
      "version": "3.12.5"
    },
    "colab": {
      "provenance": [],
      "include_colab_link": true
    }
  },
  "nbformat": 4,
  "nbformat_minor": 0
}